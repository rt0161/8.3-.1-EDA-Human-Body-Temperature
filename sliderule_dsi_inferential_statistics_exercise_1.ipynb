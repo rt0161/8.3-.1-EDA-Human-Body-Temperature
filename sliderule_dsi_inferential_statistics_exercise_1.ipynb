{
 "cells": [
  {
   "cell_type": "markdown",
   "metadata": {},
   "source": [
    "# What is the True Normal Human Body Temperature? \n",
    "\n",
    "#### Background\n",
    "\n",
    "The mean normal body temperature was held to be 37$^{\\circ}$C or 98.6$^{\\circ}$F for more than 120 years since it was first conceptualized and reported by Carl Wunderlich in a famous 1868 book. But, is this value statistically correct?"
   ]
  },
  {
   "cell_type": "markdown",
   "metadata": {},
   "source": [
    "<h3>Exercises</h3>\n",
    "\n",
    "<p>In this exercise, you will analyze a dataset of human body temperatures and employ the concepts of hypothesis testing, confidence intervals, and statistical significance.</p>\n",
    "\n",
    "<p>Answer the following questions <b>in this notebook below and submit to your Github account</b>.</p> \n",
    "\n",
    "<ol>\n",
    "<li>  Is the distribution of body temperatures normal? \n",
    "    <ul>\n",
    "    <li> Although this is not a requirement for the Central Limit Theorem to hold (read the introduction on Wikipedia's page about the CLT carefully: https://en.wikipedia.org/wiki/Central_limit_theorem), it gives us some peace of mind that the population may also be normally distributed if we assume that this sample is representative of the population.\n",
    "    <li> Think about the way you're going to check for the normality of the distribution. Graphical methods are usually used first, but there are also other ways: https://en.wikipedia.org/wiki/Normality_test\n",
    "    </ul>\n",
    "<li>  Is the sample size large? Are the observations independent?\n",
    "    <ul>\n",
    "    <li> Remember that this is a condition for the Central Limit Theorem, and hence the statistical tests we are using, to apply.\n",
    "    </ul>\n",
    "<li>  Is the true population mean really 98.6 degrees F?\n",
    "    <ul>\n",
    "    <li> First, try a bootstrap hypothesis test.\n",
    "    <li> Now, let's try frequentist statistical testing. Would you use a one-sample or two-sample test? Why?\n",
    "    <li> In this situation, is it appropriate to use the $t$ or $z$ statistic? \n",
    "    <li> Now try using the other test. How is the result be different? Why?\n",
    "    </ul>\n",
    "<li>  Draw a small sample of size 10 from the data and repeat both frequentist tests. \n",
    "    <ul>\n",
    "    <li> Which one is the correct one to use? \n",
    "    <li> What do you notice? What does this tell you about the difference in application of the $t$ and $z$ statistic?\n",
    "    </ul>\n",
    "<li>  At what temperature should we consider someone's temperature to be \"abnormal\"?\n",
    "    <ul>\n",
    "    <li> As in the previous example, try calculating everything using the boostrap approach, as well as the frequentist approach.\n",
    "    <li> Start by computing the margin of error and confidence interval. When calculating the confidence interval, keep in mind that you should use the appropriate formula for one draw, and not N draws.\n",
    "    </ul>\n",
    "<li>  Is there a significant difference between males and females in normal temperature?\n",
    "    <ul>\n",
    "    <li> What testing approach did you use and why?\n",
    "    <li> Write a story with your conclusion in the context of the original problem.\n",
    "    </ul>\n",
    "</ol>\n",
    "\n",
    "You can include written notes in notebook cells using Markdown: \n",
    "   - In the control panel at the top, choose Cell > Cell Type > Markdown\n",
    "   - Markdown syntax: http://nestacms.com/docs/creating-content/markdown-cheat-sheet\n",
    "\n",
    "#### Resources\n",
    "\n",
    "+ Information and data sources: http://www.amstat.org/publications/jse/datasets/normtemp.txt, http://www.amstat.org/publications/jse/jse_data_archive.htm\n",
    "+ Markdown syntax: http://nestacms.com/docs/creating-content/markdown-cheat-sheet\n",
    "\n",
    "****"
   ]
  },
  {
   "cell_type": "code",
   "execution_count": 1,
   "metadata": {},
   "outputs": [],
   "source": [
    "import pandas as pd\n",
    "\n",
    "df = pd.read_csv('data/human_body_temperature.csv')"
   ]
  },
  {
   "cell_type": "code",
   "execution_count": 3,
   "metadata": {},
   "outputs": [
    {
     "data": {
      "text/html": [
       "<div>\n",
       "<style scoped>\n",
       "    .dataframe tbody tr th:only-of-type {\n",
       "        vertical-align: middle;\n",
       "    }\n",
       "\n",
       "    .dataframe tbody tr th {\n",
       "        vertical-align: top;\n",
       "    }\n",
       "\n",
       "    .dataframe thead th {\n",
       "        text-align: right;\n",
       "    }\n",
       "</style>\n",
       "<table border=\"1\" class=\"dataframe\">\n",
       "  <thead>\n",
       "    <tr style=\"text-align: right;\">\n",
       "      <th></th>\n",
       "      <th>temperature</th>\n",
       "      <th>gender</th>\n",
       "      <th>heart_rate</th>\n",
       "    </tr>\n",
       "  </thead>\n",
       "  <tbody>\n",
       "    <tr>\n",
       "      <th>0</th>\n",
       "      <td>99.3</td>\n",
       "      <td>F</td>\n",
       "      <td>68.0</td>\n",
       "    </tr>\n",
       "    <tr>\n",
       "      <th>1</th>\n",
       "      <td>98.4</td>\n",
       "      <td>F</td>\n",
       "      <td>81.0</td>\n",
       "    </tr>\n",
       "    <tr>\n",
       "      <th>2</th>\n",
       "      <td>97.8</td>\n",
       "      <td>M</td>\n",
       "      <td>73.0</td>\n",
       "    </tr>\n",
       "    <tr>\n",
       "      <th>3</th>\n",
       "      <td>99.2</td>\n",
       "      <td>F</td>\n",
       "      <td>66.0</td>\n",
       "    </tr>\n",
       "    <tr>\n",
       "      <th>4</th>\n",
       "      <td>98.0</td>\n",
       "      <td>F</td>\n",
       "      <td>73.0</td>\n",
       "    </tr>\n",
       "  </tbody>\n",
       "</table>\n",
       "</div>"
      ],
      "text/plain": [
       "   temperature gender  heart_rate\n",
       "0         99.3      F        68.0\n",
       "1         98.4      F        81.0\n",
       "2         97.8      M        73.0\n",
       "3         99.2      F        66.0\n",
       "4         98.0      F        73.0"
      ]
     },
     "execution_count": 3,
     "metadata": {},
     "output_type": "execute_result"
    }
   ],
   "source": [
    "df.head()"
   ]
  },
  {
   "cell_type": "markdown",
   "metadata": {
    "collapsed": true
   },
   "source": [
    "### 1.Is the distribution of body temperatures normal? "
   ]
  },
  {
   "cell_type": "code",
   "execution_count": 10,
   "metadata": {},
   "outputs": [
    {
     "data": {
      "text/plain": [
       "<matplotlib.axes._subplots.AxesSubplot at 0x12b13710>"
      ]
     },
     "execution_count": 10,
     "metadata": {},
     "output_type": "execute_result"
    },
    {
     "data": {
      "image/png": "[encoded data removed]",
      "text/plain": [
       "<matplotlib.figure.Figure at 0x128243f0>"
      ]
     },
     "metadata": {},
     "output_type": "display_data"
    }
   ],
   "source": [
    "import seaborn as sns\n",
    "sns.distplot(df['temperature'], bins=30)"
   ]
  },
  {
   "cell_type": "code",
   "execution_count": 79,
   "metadata": {},
   "outputs": [
    {
     "name": "stdout",
     "output_type": "stream",
     "text": [
      "mean is: 98.2492307692\n",
      "standard error is : 0.730357778905\n"
     ]
    },
    {
     "data": {
      "image/png": "[encoded data removed]",
      "text/plain": [
       "<matplotlib.figure.Figure at 0x150cab50>"
      ]
     },
     "metadata": {},
     "output_type": "display_data"
    }
   ],
   "source": [
    "# do a q-q plot to best illustrate:\n",
    "import numpy as np\n",
    "import matplotlib.pyplot as plt\n",
    "\n",
    "mean_sp = np.mean(df['temperature'].values)\n",
    "print \"mean is:\", mean_sp\n",
    "std_sp = np.std(df['temperature'].values)\n",
    "print \"standard error is :\", std_sp\n",
    "\n",
    "syn = np.random.normal(mean_sp,std_sp,len(df))\n",
    "percs = np.linspace(0,100,51)\n",
    "qn_syn = np.percentile(syn, percs)\n",
    "qn_sp = np.percentile(df['temperature'].values, percs)\n",
    "\n",
    "plt.plot(qn_syn,qn_sp, ls=\"\", marker=\"o\")\n",
    "plt.xlabel('normal distribution percentile')\n",
    "plt.ylabel('sample distribution percentile')\n",
    "\n",
    "x = np.linspace(np.min((qn_syn.min(),qn_sp.min())), np.max((qn_syn.max(),qn_sp.max())))\n",
    "plt.plot(x,x, color=\"k\", ls=\"--\")\n",
    "\n",
    "plt.show()"
   ]
  },
  {
   "cell_type": "markdown",
   "metadata": {},
   "source": [
    "#### [ANS] The distribution of body temperature is similar to normal"
   ]
  },
  {
   "cell_type": "markdown",
   "metadata": {},
   "source": [
    "### 2. Is the sample size large? Are the observations independent? "
   ]
  },
  {
   "cell_type": "code",
   "execution_count": 50,
   "metadata": {},
   "outputs": [
    {
     "name": "stdout",
     "output_type": "stream",
     "text": [
      "sample size is: 130\n"
     ]
    }
   ],
   "source": [
    "print \"sample size is:\", len(df)"
   ]
  },
  {
   "cell_type": "markdown",
   "metadata": {},
   "source": [
    "#### [ANS] Since (1) the data sample size 130 > 30 . (2) In the source description of the data , the sample values of body temperatures were derive from \"normal temperatures taken at several different times during two consecutive days, resulting in 700 total readings, from 122 male and 26 females\". It is reasonable to believe samples were taken in a way that observations are independent. "
   ]
  },
  {
   "cell_type": "markdown",
   "metadata": {},
   "source": [
    "### 3. Is the true population mean really 98.6 degrees F?"
   ]
  },
  {
   "cell_type": "code",
   "execution_count": 51,
   "metadata": {},
   "outputs": [],
   "source": [
    "# Bootstrap hypothesis test:\n",
    "## H0: T=98.6 degrees\n",
    "## H1: T != 98.6 degrees\n",
    "## chose  a 5% significance level\n",
    "#  first build a function to perform bootstrap statistics\n",
    "def bootstrap_replica_1d(data, func):\n",
    "    \"\"\"Generate bootstrap replica of 1d data\"\"\"\n",
    "    import numpy as np\n",
    "    bs_sample= np.random.choice(data, len(data))\n",
    "    return func(bs_sample)"
   ]
  },
  {
   "cell_type": "code",
   "execution_count": 67,
   "metadata": {},
   "outputs": [],
   "source": [
    "bs_mean = np.empty(1000)\n",
    "fake_data = df['temperature'].values-mean_sp+98.6  # shift the mean of bootstrap to 98.6\n",
    "for i in range(1000):  ## construct bootstrap sample size 1000\n",
    "    bs_mean[i]= bootstrap_replica_1d(fake_data, np.mean)"
   ]
  },
  {
   "cell_type": "code",
   "execution_count": 68,
   "metadata": {},
   "outputs": [
    {
     "data": {
      "text/plain": [
       "<matplotlib.text.Text at 0x145c71d0>"
      ]
     },
     "execution_count": 68,
     "metadata": {},
     "output_type": "execute_result"
    },
    {
     "data": {
      "image/png": "[encoded data removed]",
      "text/plain": [
       "<matplotlib.figure.Figure at 0x145b2210>"
      ]
     },
     "metadata": {},
     "output_type": "display_data"
    }
   ],
   "source": [
    "_ = sns.distplot(bs_mean, bins=100)\n",
    "_ = plt.plot([np.mean(bs_mean),np.mean(bs_mean)],[0,12], linestyle='--')\n",
    "_ = plt.plot([np.mean(df['temperature'].values),np.mean(df['temperature'].values)],[0,12], linestyle='--')\n",
    "plt.xlabel('bootstrap mean of body temperature(degree)')\n",
    "plt.ylabel('frequency')"
   ]
  },
  {
   "cell_type": "code",
   "execution_count": 75,
   "metadata": {},
   "outputs": [
    {
     "name": "stdout",
     "output_type": "stream",
     "text": [
      "above and below: 98.9507692308 98.2492307692\n",
      "P-value is: 0\n"
     ]
    }
   ],
   "source": [
    "dev=98.6-mean_sp\n",
    "upper = 98.6+dev\n",
    "print \"above and below:\", upper, mean_sp\n",
    "print \"P-value is:\", ((bs_mean < mean_sp).sum()/1000) +((bs_mean > upper).sum()/1000)"
   ]
  },
  {
   "cell_type": "markdown",
   "metadata": {},
   "source": [
    "#### [ANS 2.1] Taking the proportion of the bootstrap samples (which is mean = 98.6), where the distribution below  98.25(true sample mean) or above 98.95. The bootstrap sample provide 0% . Since  0% < 5%, H0 is rejected. Therefore , the mean of the true population is not 98.6"
   ]
  },
  {
   "cell_type": "markdown",
   "metadata": {},
   "source": [
    "### try frequentist statistical testing. Would you use a one-sample or two-sample test? Why?\n",
    "### In this situation, is it appropriate to use the t or z statistic? \n",
    "#### [ANS] One-sample test. Since the question is targeted to know if test-statistics equates one value. Since sample size is large(way > 30), and normally distributed, it is reasonable to believe the mean is normally distributed and abid by CLT. A z statistic test is valid."
   ]
  },
  {
   "cell_type": "code",
   "execution_count": 78,
   "metadata": {},
   "outputs": [
    {
     "name": "stdout",
     "output_type": "stream",
     "text": [
      "-5.47592520208\n"
     ]
    }
   ],
   "source": [
    "#  calculate z test :\n",
    "z_val = (mean_sp-98.6)/(std_sp/np.sqrt(len(df)))\n",
    "print z_val"
   ]
  },
  {
   "cell_type": "markdown",
   "metadata": {},
   "source": [
    "![normal distribution probability z-table](http://www.z-table.com/uploads/2/1/7/9/21795380/9340559_orig.png \"normal distribution probability z-table\")\n",
    "#### Based on the standard normal distribution z value probability, z =-5.476 indicates probability < 0.0002 (.02%) . This is way below 5%, so H0 is rejected."
   ]
  },
  {
   "cell_type": "markdown",
   "metadata": {},
   "source": [
    "#### Now try using the other test. How is the result be different? Why? "
   ]
  },
  {
   "cell_type": "code",
   "execution_count": 85,
   "metadata": {},
   "outputs": [
    {
     "name": "stdout",
     "output_type": "stream",
     "text": [
      " confidence interval from z-test for mean estimated from this sample population is: [98.123679804428164, 98.374781734033334]\n"
     ]
    }
   ],
   "source": [
    "#  construct confidence interval of z and t test\n",
    "## define confidence level 95% -- 2.5% (.025) from z-table \n",
    "z_crit = -1.96  ## check the z-table above\n",
    "z_range = [mean_sp + z_crit*(std_sp/np.sqrt(130)), mean_sp-z_crit*(std_sp/np.sqrt(130))]\n",
    "print \" confidence interval from z-test for mean estimated from this sample population is:\", z_range"
   ]
  },
  {
   "cell_type": "markdown",
   "metadata": {},
   "source": [
    "![normal distribution probability t-table](https://d2vlcm61l7u1fs.cloudfront.net/media%2F60a%2F60af5890-13ec-42d3-a274-5fc733ec37a4%2FphpYSVwdO.png \"normal distribution probability t-table\")"
   ]
  },
  {
   "cell_type": "code",
   "execution_count": 88,
   "metadata": {},
   "outputs": [
    {
     "name": "stdout",
     "output_type": "stream",
     "text": [
      " confidence interval from t-test for mean estimated from this sample population is: [98.122142445675479, 98.376319092786019]\n"
     ]
    }
   ],
   "source": [
    "## confidence level 95% -- 2.5% (.025)to the right\n",
    "deg_f = 129 #degree of freedom\n",
    "t_crit =  1.984 ## close to \n",
    "t_range = [mean_sp - t_crit*(std_sp/np.sqrt(130)), mean_sp+t_crit*(std_sp/np.sqrt(130))]\n",
    "print \" confidence interval from t-test for mean estimated from this sample population is:\", t_range"
   ]
  },
  {
   "cell_type": "markdown",
   "metadata": {},
   "source": [
    "#### [ANS] Both z and t test yields the same result that the confidence interval do not contain 98.6, therefore giving us the same result"
   ]
  },
  {
   "cell_type": "markdown",
   "metadata": {},
   "source": [
    "### 4.Draw a small sample of size 10 from the data and repeat both frequentist tests\n",
    "Which one is the correct one to use? What do you notice? What does this tell you about the difference in application of the t and z statistic? "
   ]
  },
  {
   "cell_type": "code",
   "execution_count": 99,
   "metadata": {},
   "outputs": [
    {
     "data": {
      "text/plain": [
       "array([ 98.8,  98.4,  98.8,  98.8,  97.2,  97.9,  97.8,  98.5,  98.6,  98. ])"
      ]
     },
     "execution_count": 99,
     "metadata": {},
     "output_type": "execute_result"
    }
   ],
   "source": [
    "# draw sample\n",
    "sp_10 = np.random.choice(df['temperature'].values, 10)\n",
    "sp_10"
   ]
  },
  {
   "cell_type": "code",
   "execution_count": 94,
   "metadata": {},
   "outputs": [
    {
     "name": "stdout",
     "output_type": "stream",
     "text": [
      " mean is : 98.04\n",
      "standard error is: 0.748598690889\n"
     ]
    }
   ],
   "source": [
    "mean_sp10 = np.mean(sp_10)\n",
    "std_sp10 = np.std(sp_10)\n",
    "print \"mean is :\", mean_sp10\n",
    "print \"standard error is:\",std_sp10"
   ]
  },
  {
   "cell_type": "code",
   "execution_count": 102,
   "metadata": {},
   "outputs": [
    {
     "name": "stdout",
     "output_type": "stream",
     "text": [
      " confidence interval of the mean for z-test from this sample population is: [97.576013724340896, 98.503986275659088]\n"
     ]
    }
   ],
   "source": [
    "z_range = [mean_sp10 + z_crit*(std_sp10/np.sqrt(10)), mean_sp10-z_crit*(std_sp10/np.sqrt(10))]\n",
    "print \" confidence interval of the mean for z-test from this sample population is:\", z_range"
   ]
  },
  {
   "cell_type": "code",
   "execution_count": 101,
   "metadata": {},
   "outputs": [
    {
     "name": "stdout",
     "output_type": "stream",
     "text": [
      " confidence interval of the mean for t-test from this sample population is: [97.606078141182067, 98.473921858817917]\n"
     ]
    }
   ],
   "source": [
    "deg_f = 9 #degree of freedom\n",
    "t_crit =  1.833 ## close to \n",
    "t_range = [mean_sp10 - t_crit*(std_sp10/np.sqrt(10)), mean_sp10+t_crit*(std_sp10/np.sqrt(10))]\n",
    "print \" confidence interval of the mean for t-test from this sample population is:\", t_range"
   ]
  },
  {
   "cell_type": "markdown",
   "metadata": {},
   "source": [
    "#### [ANS] For small sample size(<30) , and when population standard deviation is unknown, one should use t-test.\n",
    "#### From this example of a small sample size, t-test gave a tighter confidence interval than z-test around the mean."
   ]
  },
  {
   "cell_type": "markdown",
   "metadata": {},
   "source": [
    "### 5. At what temperature should we consider someone's temperature to be \"abnormal\"? As in the previous example, try calculating everything using the boostrap approach, as well as the frequentist approach. \n",
    "• Start by computing the margin of error and confidence interval. When calculating the confidence interval, keep in mind that you should use the appropriate formula for one draw, and not N draws. \n"
   ]
  },
  {
   "cell_type": "code",
   "execution_count": 104,
   "metadata": {},
   "outputs": [
    {
     "name": "stdout",
     "output_type": "stream",
     "text": [
      "normal temperature should fall in: 98.1236798044 98.374781734\n"
     ]
    }
   ],
   "source": [
    "# margin of error\n",
    "se = std_sp/np.sqrt(130)\n",
    "# z-critical value for a 95% confidence level:\n",
    "z_crit = 1.96\n",
    "moe = z_crit*se\n",
    "print \"normal temperature should fall in:\",mean_sp-moe, mean_sp+moe"
   ]
  },
  {
   "cell_type": "markdown",
   "metadata": {},
   "source": [
    "#### [ANS] Temperature outside of 98.12 and 98.37 is abnormal"
   ]
  },
  {
   "cell_type": "markdown",
   "metadata": {},
   "source": [
    "### 6.Is there a significant difference between males and females in normal temperature? \n",
    "• What testing approach did you use and why? \n",
    "\n",
    "• Write a story with your conclusion in the context of the original problem.\n"
   ]
  },
  {
   "cell_type": "code",
   "execution_count": 109,
   "metadata": {},
   "outputs": [],
   "source": [
    "male_t=df.loc[df['gender']== 'M']['temperature'].values\n",
    "female_t=df.loc[df['gender']== 'F']['temperature'].values"
   ]
  },
  {
   "cell_type": "code",
   "execution_count": 128,
   "metadata": {},
   "outputs": [
    {
     "name": "stdout",
     "output_type": "stream",
     "text": [
      "male body temperature mean: 98.1046153846\n",
      "female body temperature mean: 98.3938461538\n"
     ]
    }
   ],
   "source": [
    "male_mean = np.mean(male_t)\n",
    "male_std = np.std(male_t)\n",
    "female_mean = np.mean(female_t)\n",
    "female_std = np.std(female_t)\n",
    "print \"male body temperature mean:\", male_mean\n",
    "print \"female body temperature mean:\", female_mean"
   ]
  },
  {
   "cell_type": "code",
   "execution_count": 122,
   "metadata": {},
   "outputs": [
    {
     "data": {
      "image/png": "[encoded data removed]",
      "text/plain": [
       "<matplotlib.figure.Figure at 0x15a9f5f0>"
      ]
     },
     "metadata": {},
     "output_type": "display_data"
    }
   ],
   "source": [
    "sns.distplot(male_t, bins=30, label='male')\n",
    "sns.distplot(female_t, bins=30, label='female')\n",
    "plt.xlabel('mean temperature(degree)')\n",
    "plt.legend()\n",
    "plt.title('Body Temperature by sex')\n",
    "plt.show()"
   ]
  },
  {
   "cell_type": "code",
   "execution_count": 125,
   "metadata": {},
   "outputs": [
    {
     "data": {
      "text/plain": [
       "<matplotlib.text.Text at 0x14d0c030>"
      ]
     },
     "execution_count": 125,
     "metadata": {},
     "output_type": "execute_result"
    },
    {
     "data": {
      "image/png": "[encoded data removed]",
      "text/plain": [
       "<matplotlib.figure.Figure at 0x15d8b710>"
      ]
     },
     "metadata": {},
     "output_type": "display_data"
    }
   ],
   "source": [
    "sns.distplot(male_t-female_t, bins=30)\n",
    "plt.xlabel('mean temperature(degree)')\n",
    "plt.title('Body Temperature difference between M/F')"
   ]
  },
  {
   "cell_type": "code",
   "execution_count": 131,
   "metadata": {},
   "outputs": [],
   "source": [
    "## Do hypothesis testing, two sample z test\n",
    "# Null hypothesis, H0 : no difference, male mean T = female mean T\n",
    "# H1: male mean T!= female mean T\n",
    "# significance level = 95%\n",
    "std_diff = np.sqrt((std_sp**2)*2/65) ## This std is based on H0 , that mean body T of male = mean body T of female"
   ]
  },
  {
   "cell_type": "code",
   "execution_count": 138,
   "metadata": {},
   "outputs": [
    {
     "name": "stdout",
     "output_type": "stream",
     "text": [
      "z is: -2.25761828507\n"
     ]
    }
   ],
   "source": [
    "z_val = (male_mean-female_mean-0)/std_diff\n",
    "print \"z is:\", z_val"
   ]
  },
  {
   "cell_type": "markdown",
   "metadata": {},
   "source": [
    "#### [ANS]  Given that the z value = -2.25, the probability of getting this statistic is .0122 from the z-table above, that is 1.2%. Since 1.2% < 5% , the H0 should be rejected if we set significance level = 95%. This suggests that there is significant difference between male and female body temperature."
   ]
  },
  {
   "cell_type": "code",
   "execution_count": null,
   "metadata": {},
   "outputs": [],
   "source": []
  }
 ],
 "metadata": {
  "kernelspec": {
   "display_name": "Python 2",
   "language": "python",
   "name": "python2"
  },
  "language_info": {
   "codemirror_mode": {
    "name": "ipython",
    "version": 2
   },
   "file_extension": ".py",
   "mimetype": "text/x-python",
   "name": "python",
   "nbconvert_exporter": "python",
   "pygments_lexer": "ipython2",
   "version": "2.7.12"
  }
 },
 "nbformat": 4,
 "nbformat_minor": 1
}
